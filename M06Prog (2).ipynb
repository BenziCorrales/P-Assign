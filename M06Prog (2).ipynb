{
 "cells": [
  {
   "cell_type": "code",
   "execution_count": null,
   "id": "ffeb4cc2-510f-457d-8f2e-65c8a3ab3703",
   "metadata": {},
   "outputs": [],
   "source": [
    "# 13.1 Write the current date as a string to the text file today.txt."
   ]
  },
  {
   "cell_type": "code",
   "execution_count": 1,
   "id": "7f15dc98-cb97-4c0b-807b-b235e0dbfca7",
   "metadata": {},
   "outputs": [],
   "source": [
    "from datetime import date\n",
    "now = date.today()\n",
    "now_str = now.isoformat()\n",
    "with open('today.txt', 'wt') as output:\n",
    "    #print(now_str, file=output)\n",
    "    output.write(now_str) "
   ]
  },
  {
   "cell_type": "code",
   "execution_count": null,
   "id": "5dd8b74f-5c9b-4af7-9a5d-ef9f906b49ba",
   "metadata": {},
   "outputs": [],
   "source": [
    "# 13.2 Read the text file today.txt into the string today_string."
   ]
  },
  {
   "cell_type": "code",
   "execution_count": 2,
   "id": "495d3aa2-cb8e-45d9-abe2-60a3f2e6c04a",
   "metadata": {},
   "outputs": [
    {
     "data": {
      "text/plain": [
       "'2024-04-26'"
      ]
     },
     "execution_count": 2,
     "metadata": {},
     "output_type": "execute_result"
    }
   ],
   "source": [
    "with open('today.txt', 'rt') as input:\n",
    "    today_string = input.read()\n",
    " \n",
    "today_string"
   ]
  },
  {
   "cell_type": "code",
   "execution_count": null,
   "id": "5f12640b-6b48-4553-bfb1-852e5f8d6b1a",
   "metadata": {},
   "outputs": [],
   "source": [
    "# 13.3 Parse the date from today_string."
   ]
  },
  {
   "cell_type": "code",
   "execution_count": 3,
   "id": "ca08c89d-757d-4654-a221-f24c1f3a026b",
   "metadata": {},
   "outputs": [
    {
     "data": {
      "text/plain": [
       "datetime.datetime(2024, 4, 26, 0, 0)"
      ]
     },
     "execution_count": 3,
     "metadata": {},
     "output_type": "execute_result"
    }
   ],
   "source": [
    "from datetime import datetime\n",
    "fmt = '%Y-%m-%d'\n",
    "datetime.strptime(today_string, fmt)"
   ]
  },
  {
   "cell_type": "code",
   "execution_count": null,
   "id": "7836923d-30f6-4668-bb7c-049550a1ab55",
   "metadata": {},
   "outputs": [],
   "source": [
    "# 15.1 Use multiprocessing to create three separate processes. \n",
    "# Make each one wait a random number of seconds between zero and one, print the current time, and then exit."
   ]
  },
  {
   "cell_type": "code",
   "execution_count": 4,
   "id": "9f7cbb73-5ad1-4393-89e6-f9f66aac31b3",
   "metadata": {},
   "outputs": [
    {
     "name": "stdout",
     "output_type": "stream",
     "text": [
      "Processes have finished execution.\n"
     ]
    }
   ],
   "source": [
    "import multiprocessing\n",
    "import random\n",
    "from datetime import datetime\n",
    "from time import sleep\n",
    "\n",
    "def now(seconds, file_path):\n",
    "    sleep(seconds)\n",
    "    with open(file_path, 'a') as f:\n",
    "        f.write(f'waited {seconds:.2f} seconds, time is {datetime.utcnow()}\\n')\n",
    "\n",
    "if __name__ == '__main__':\n",
    "    output_file = 'process_output.txt'\n",
    "    with open(output_file, 'w') as f:\n",
    "        f.write('')  # Clear existing contents\n",
    "    processes = []\n",
    "    for n in range(3):\n",
    "        seconds = random.random()\n",
    "        proc = multiprocessing.Process(target=now, args=(seconds, output_file))\n",
    "        processes.append(proc)\n",
    "        proc.start()\n",
    "    \n",
    "    for proc in processes:\n",
    "        proc.join()\n",
    "\n",
    "    print('Processes have finished execution.')"
   ]
  },
  {
   "cell_type": "code",
   "execution_count": null,
   "id": "8a181f16-f833-4bc1-895f-0220236a100a",
   "metadata": {},
   "outputs": [],
   "source": []
  }
 ],
 "metadata": {
  "kernelspec": {
   "display_name": "Python 3 (ipykernel)",
   "language": "python",
   "name": "python3"
  },
  "language_info": {
   "codemirror_mode": {
    "name": "ipython",
    "version": 3
   },
   "file_extension": ".py",
   "mimetype": "text/x-python",
   "name": "python",
   "nbconvert_exporter": "python",
   "pygments_lexer": "ipython3",
   "version": "3.11.7"
  }
 },
 "nbformat": 4,
 "nbformat_minor": 5
}
