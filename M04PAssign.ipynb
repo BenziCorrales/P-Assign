{
 "cells": [
  {
   "cell_type": "code",
   "execution_count": null,
   "id": "e2833d7a-4b97-44d4-9b3f-0386ef4d8b6d",
   "metadata": {},
   "outputs": [],
   "source": [
    "# 11.1 Create a file called zoo.py. In it, define a function called hours() that prints the string 'Open 9-5 daily'. \n",
    "# Then, use the interactive interpreter to import the zoo module and call its hours() function."
   ]
  },
  {
   "cell_type": "code",
   "execution_count": 11,
   "id": "6735f7f7-fced-488f-9b20-6bca74f313ea",
   "metadata": {},
   "outputs": [
    {
     "name": "stdout",
     "output_type": "stream",
     "text": [
      "Open 9-5 daily\n"
     ]
    }
   ],
   "source": [
    "from zoo import hours\n",
    "\n",
    "hours()\n"
   ]
  },
  {
   "cell_type": "code",
   "execution_count": 5,
   "id": "fb6b9d54-2160-415d-98d3-28813ed92d89",
   "metadata": {},
   "outputs": [],
   "source": [
    "# 11.2 In the interactive interpreter, import the zoo module as menagerie and call its hours() function."
   ]
  },
  {
   "cell_type": "code",
   "execution_count": 15,
   "id": "0e6b6b94-dbe8-49c2-956c-526f9beba18d",
   "metadata": {},
   "outputs": [
    {
     "name": "stdout",
     "output_type": "stream",
     "text": [
      "Open 9-5 daily\n"
     ]
    }
   ],
   "source": [
    "import zoo as menagerie\n",
    "menagerie.hours()"
   ]
  },
  {
   "cell_type": "code",
   "execution_count": null,
   "id": "69b50ac8-738b-4672-b259-0d5ae6fbb4e8",
   "metadata": {},
   "outputs": [],
   "source": [
    "# 16.8 Use the sqlalchemy module to connect to the sqlite3 database books.db that you just made in exercise 16.4. \n",
    "# As in 16.6, select and print the title column from the book table in alphabetical order."
   ]
  },
  {
   "cell_type": "code",
   "execution_count": 5,
   "id": "cff7dd29-498e-4270-8e53-ce8179a0783e",
   "metadata": {},
   "outputs": [
    {
     "name": "stdout",
     "output_type": "stream",
     "text": [
      "('Perdido Street Station', 'China MiÃ©ville', 2000)\n",
      "('Small Gods', 'Terry Pratchett', 1992)\n",
      "('The Spellman Files', 'Lisa Lutz', 2007)\n",
      "('The Weirdstone of Brisingamen', 'Alan Garner', 1960)\n",
      "('Thud!', 'Terry Pratchett', 2005)\n"
     ]
    }
   ],
   "source": [
    "import sqlalchemy\n",
    "from sqlalchemy import create_engine, text\n",
    "\n",
    "engine=create_engine('sqlite:///books.db')\n",
    "# conn = sqlalchemy.create_engine('sqlite:///books.db')\n",
    "sql = \"SELECT * FROM book ORDER BY title ASC;\" \n",
    "\n",
    "with engine.connect() as connection:\n",
    "    result=connection.execute(text(sql))\n",
    "    rows=result.fetchall()\n",
    "for row in rows:\n",
    "    print(row)"
   ]
  },
  {
   "cell_type": "code",
   "execution_count": null,
   "id": "66ae1202-27e1-45b3-8bf9-5a7ca0b7425f",
   "metadata": {},
   "outputs": [],
   "source": []
  }
 ],
 "metadata": {
  "kernelspec": {
   "display_name": "Python 3 (ipykernel)",
   "language": "python",
   "name": "python3"
  },
  "language_info": {
   "codemirror_mode": {
    "name": "ipython",
    "version": 3
   },
   "file_extension": ".py",
   "mimetype": "text/x-python",
   "name": "python",
   "nbconvert_exporter": "python",
   "pygments_lexer": "ipython3",
   "version": "3.11.7"
  }
 },
 "nbformat": 4,
 "nbformat_minor": 5
}
