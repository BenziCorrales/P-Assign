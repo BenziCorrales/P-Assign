{
 "cells": [
  {
   "cell_type": "code",
   "execution_count": null,
   "id": "ffeb4cc2-510f-457d-8f2e-65c8a3ab3703",
   "metadata": {},
   "outputs": [],
   "source": [
    "# 13.1 Write the current date as a string to the text file today.txt."
   ]
  },
  {
   "cell_type": "code",
   "execution_count": 10,
   "id": "7f15dc98-cb97-4c0b-807b-b235e0dbfca7",
   "metadata": {},
   "outputs": [],
   "source": [
    "from datetime import datetime\n",
    "\n",
    "current_date = datetime.now().strftime(\"%Y-%m-%d\")\n",
    "\n",
    "with open(\"today.txt\", \"w\") as file:\n",
    "    file.write(current_date)"
   ]
  },
  {
   "cell_type": "code",
   "execution_count": null,
   "id": "5dd8b74f-5c9b-4af7-9a5d-ef9f906b49ba",
   "metadata": {},
   "outputs": [],
   "source": [
    "# 13.2 Read the text file today.txt into the string today_string."
   ]
  },
  {
   "cell_type": "code",
   "execution_count": 11,
   "id": "495d3aa2-cb8e-45d9-abe2-60a3f2e6c04a",
   "metadata": {},
   "outputs": [
    {
     "name": "stdout",
     "output_type": "stream",
     "text": [
      "2024-04-25\n"
     ]
    }
   ],
   "source": [
    "with open(\"today.txt\", \"r\") as file:\n",
    "    today_string = file.read()\n",
    "\n",
    "print(today_string)"
   ]
  },
  {
   "cell_type": "code",
   "execution_count": null,
   "id": "5f12640b-6b48-4553-bfb1-852e5f8d6b1a",
   "metadata": {},
   "outputs": [],
   "source": [
    "# 13.3 Parse the date from today_string."
   ]
  },
  {
   "cell_type": "code",
   "execution_count": 5,
   "id": "ca08c89d-757d-4654-a221-f24c1f3a026b",
   "metadata": {},
   "outputs": [
    {
     "name": "stdout",
     "output_type": "stream",
     "text": [
      "2024-04-25 00:00:00\n"
     ]
    }
   ],
   "source": [
    "date = datetime.datetime.fromisoformat(today_string)\n",
    "\n",
    "print(date)"
   ]
  },
  {
   "cell_type": "code",
   "execution_count": null,
   "id": "7836923d-30f6-4668-bb7c-049550a1ab55",
   "metadata": {},
   "outputs": [],
   "source": [
    "# 15.1 Use multiprocessing to create three separate processes. \n",
    "# Make each one wait a random number of seconds between zero and one, print the current time, and then exit."
   ]
  },
  {
   "cell_type": "code",
   "execution_count": 18,
   "id": "9f7cbb73-5ad1-4393-89e6-f9f66aac31b3",
   "metadata": {},
   "outputs": [
    {
     "name": "stdout",
     "output_type": "stream",
     "text": [
      "The current date and time is 2024-04-26 09:26:40.785608\n",
      "The current date and time is 2024-04-26 09:26:41.770645\n",
      "The current date and time is 2024-04-26 09:26:42.451553\n"
     ]
    }
   ],
   "source": [
    "import multiprocessing\n",
    "from datetime import datetime\n",
    "import time\n",
    "import random\n",
    "\n",
    "def current_time():\n",
    "   cur = datetime.now()\n",
    "   print(\"The current date and time is {}\".format(cur))\n",
    "   time.sleep(random.random())\n",
    "\n",
    "if __name__ == '__main__':\n",
    "\n",
    "   process1 = multiprocessing.Process(target=current_time())\n",
    "   process2 = multiprocessing.Process(target=current_time())\n",
    "   process3 = multiprocessing.Process(target=current_time())\n",
    "   process1.start()\n",
    "   process2.start()\n",
    "   process3.start()\n",
    "   process1.join()\n",
    "   process2.join()\n",
    "   process3.join()"
   ]
  },
  {
   "cell_type": "code",
   "execution_count": null,
   "id": "8a181f16-f833-4bc1-895f-0220236a100a",
   "metadata": {},
   "outputs": [],
   "source": []
  }
 ],
 "metadata": {
  "kernelspec": {
   "display_name": "Python 3 (ipykernel)",
   "language": "python",
   "name": "python3"
  },
  "language_info": {
   "codemirror_mode": {
    "name": "ipython",
    "version": 3
   },
   "file_extension": ".py",
   "mimetype": "text/x-python",
   "name": "python",
   "nbconvert_exporter": "python",
   "pygments_lexer": "ipython3",
   "version": "3.11.7"
  }
 },
 "nbformat": 4,
 "nbformat_minor": 5
}
