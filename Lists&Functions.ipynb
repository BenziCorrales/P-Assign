{
 "cells": [
  {
   "cell_type": "code",
   "execution_count": 1,
   "id": "e99c22b3-1853-4e75-b8de-c8cece367ae1",
   "metadata": {},
   "outputs": [
    {
     "data": {
      "text/plain": [
       "' 7.4 Make a list called things with these three strings as elements: \"mozzarella\", \"cinderella\", \"salmonella\". '"
      ]
     },
     "execution_count": 1,
     "metadata": {},
     "output_type": "execute_result"
    }
   ],
   "source": [
    "\"\"\" 7.4 Make a list called things with these three strings as elements: \"mozzarella\", \"cinderella\", \"salmonella\". \"\"\""
   ]
  },
  {
   "cell_type": "code",
   "execution_count": 2,
   "id": "2ed24cc6-eff1-4e86-afc6-67d73e81b1bb",
   "metadata": {},
   "outputs": [],
   "source": [
    "things = [\"mozzarella\", \"cinderella\", \"salmonella\"]"
   ]
  },
  {
   "cell_type": "code",
   "execution_count": null,
   "id": "f5c6e1c1-7aac-4e11-b53a-4c18fc74d66d",
   "metadata": {},
   "outputs": [],
   "source": [
    "\"\"\" 7.5 Capitalize the element in things that refers to a person and then print the list. Did it change the element in the list? \"\"\""
   ]
  },
  {
   "cell_type": "code",
   "execution_count": 2,
   "id": "1ad73d5f-5391-4992-8e5e-55bc726529c4",
   "metadata": {},
   "outputs": [
    {
     "name": "stdout",
     "output_type": "stream",
     "text": [
      "['mozzarella', 'Cinderella', 'salmonella']\n"
     ]
    }
   ],
   "source": [
    "things = [\"mozzarella\", \"cinderella\", \"salmonella\"]\n",
    "\n",
    "for i in range(len(things)):\n",
    "    if \"cinderella\" in things[i]:\n",
    "        things[i] = things[i].capitalize()\n",
    "\n",
    "print(things)"
   ]
  },
  {
   "cell_type": "code",
   "execution_count": null,
   "id": "c641b417-15fe-4cf7-a476-6bd693c1e5d1",
   "metadata": {},
   "outputs": [],
   "source": [
    "\"\"\" 7.6 Make the cheesy element of things all uppercase and then print the list.  \"\"\""
   ]
  },
  {
   "cell_type": "code",
   "execution_count": 3,
   "id": "526373b8-da2b-4478-ae0c-9b5d04552201",
   "metadata": {},
   "outputs": [
    {
     "name": "stdout",
     "output_type": "stream",
     "text": [
      "['MOZZARELLA', 'cinderella', 'salmonella']\n"
     ]
    }
   ],
   "source": [
    "things = [\"mozzarella\", \"cinderella\", \"salmonella\"]\n",
    "\n",
    "for i in range(len(things)):\n",
    "    if \"mozzarella\" in things[i]:\n",
    "        things[i] = things[i].upper()\n",
    "        \n",
    "print(things)"
   ]
  },
  {
   "cell_type": "code",
   "execution_count": null,
   "id": "4adf92f7-6200-4541-9d80-7a582bfc4320",
   "metadata": {},
   "outputs": [],
   "source": [
    "\"\"\" 7.7 Delete the disease element from things, collect your Nobel Prize, and print the list. \"\"\""
   ]
  },
  {
   "cell_type": "code",
   "execution_count": 5,
   "id": "794a5555-994f-496f-8675-46927d0c42f3",
   "metadata": {},
   "outputs": [
    {
     "name": "stdout",
     "output_type": "stream",
     "text": [
      "['mozzarella', 'cinderella']\n"
     ]
    }
   ],
   "source": [
    "things = [\"mozzarella\", \"cinderella\", \"salmonella\"]\n",
    "\n",
    "things.remove(\"salmonella\")\n",
    "\n",
    "print(things)"
   ]
  },
  {
   "cell_type": "code",
   "execution_count": null,
   "id": "77ad3412-b533-4c11-913b-6ebb43d5a90c",
   "metadata": {},
   "outputs": [],
   "source": [
    "\"\"\" 9.1 Define a function called good() that returns the following list: ['Harry', 'Ron', 'Hermione']. \"\"\""
   ]
  },
  {
   "cell_type": "code",
   "execution_count": 6,
   "id": "ef1bf54e-8ff1-45c2-85b7-f36e37512c0f",
   "metadata": {},
   "outputs": [
    {
     "name": "stdout",
     "output_type": "stream",
     "text": [
      "['Harry', 'Ron', 'Hermione']\n"
     ]
    }
   ],
   "source": [
    "def good():\n",
    "  return ['Harry', 'Ron', 'Hermione']\n",
    "\n",
    "print(good())"
   ]
  },
  {
   "cell_type": "code",
   "execution_count": null,
   "id": "82e6c2d7-413c-4a59-8fc4-5ad6e6d0002f",
   "metadata": {},
   "outputs": [],
   "source": [
    "\"\"\" 9.2 Define a generator function called get_odds() that returns the odd numbers from range(10).\n",
    "        Use a for loop to find and print the third value returned."
   ]
  },
  {
   "cell_type": "code",
   "execution_count": 8,
   "id": "00330c8c-4de5-46c4-8bc4-b6fefcc22f7d",
   "metadata": {},
   "outputs": [
    {
     "name": "stdout",
     "output_type": "stream",
     "text": [
      "Third Odd Number: 5\n"
     ]
    }
   ],
   "source": [
    "def get_odds():\n",
    "    count = 0\n",
    "    for odd_number in range(10): \n",
    "        if odd_number % 2:\n",
    "            count += 1\n",
    "            if count == 3:\n",
    "                yield odd_number\n",
    "                break\n",
    "\n",
    "for odd_number in get_odds():\n",
    "    print(\"Third Odd Number:\", odd_number)"
   ]
  },
  {
   "cell_type": "code",
   "execution_count": null,
   "id": "bf22b574-1b1e-4b8a-9a58-c1a6a8333148",
   "metadata": {},
   "outputs": [],
   "source": []
  }
 ],
 "metadata": {
  "kernelspec": {
   "display_name": "Python 3 (ipykernel)",
   "language": "python",
   "name": "python3"
  },
  "language_info": {
   "codemirror_mode": {
    "name": "ipython",
    "version": 3
   },
   "file_extension": ".py",
   "mimetype": "text/x-python",
   "name": "python",
   "nbconvert_exporter": "python",
   "pygments_lexer": "ipython3",
   "version": "3.12.0"
  }
 },
 "nbformat": 4,
 "nbformat_minor": 5
}
